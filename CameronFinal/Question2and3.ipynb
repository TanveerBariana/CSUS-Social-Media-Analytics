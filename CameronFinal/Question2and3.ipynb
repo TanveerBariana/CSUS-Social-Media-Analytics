{
 "cells": [
  {
   "cell_type": "code",
   "execution_count": 1,
   "metadata": {},
   "outputs": [],
   "source": [
    "import pandas as pd"
   ]
  },
  {
   "cell_type": "code",
   "execution_count": 2,
   "metadata": {},
   "outputs": [
    {
     "data": {
      "text/html": [
       "<div>\n",
       "<style scoped>\n",
       "    .dataframe tbody tr th:only-of-type {\n",
       "        vertical-align: middle;\n",
       "    }\n",
       "\n",
       "    .dataframe tbody tr th {\n",
       "        vertical-align: top;\n",
       "    }\n",
       "\n",
       "    .dataframe thead th {\n",
       "        text-align: right;\n",
       "    }\n",
       "</style>\n",
       "<table border=\"1\" class=\"dataframe\">\n",
       "  <thead>\n",
       "    <tr style=\"text-align: right;\">\n",
       "      <th></th>\n",
       "      <th>Index</th>\n",
       "      <th>Posting</th>\n",
       "      <th>PosterName</th>\n",
       "      <th>PostingDate</th>\n",
       "      <th>NumberofLikes</th>\n",
       "      <th>NumberofComments</th>\n",
       "      <th>NumberofReposts</th>\n",
       "      <th>NumberofOrganicImpressions</th>\n",
       "      <th>Comments</th>\n",
       "      <th>Commenters</th>\n",
       "    </tr>\n",
       "  </thead>\n",
       "  <tbody>\n",
       "    <tr>\n",
       "      <th>0</th>\n",
       "      <td>1</td>\n",
       "      <td>ðŸŒŸ Celebrating Entrepreneurship &amp; Economic ...</td>\n",
       "      <td>CameronR.Law</td>\n",
       "      <td>11/2/2023</td>\n",
       "      <td>12</td>\n",
       "      <td>3</td>\n",
       "      <td>1</td>\n",
       "      <td>98</td>\n",
       "      <td>What a great news for the Greater Sacramento S...</td>\n",
       "      <td>Dick Gourley, Cameron Law, Carlsen Center for ...</td>\n",
       "    </tr>\n",
       "    <tr>\n",
       "      <th>1</th>\n",
       "      <td>2</td>\n",
       "      <td>Join us for an early Global Entrepreneurship ...</td>\n",
       "      <td>CameronR.Law</td>\n",
       "      <td>11/2/2023</td>\n",
       "      <td>11</td>\n",
       "      <td>3</td>\n",
       "      <td>2</td>\n",
       "      <td>342</td>\n",
       "      <td>An amazing opportunity! I look forward to seei...</td>\n",
       "      <td>Cameron Law, Kwame Anku, Mark Takata</td>\n",
       "    </tr>\n",
       "    <tr>\n",
       "      <th>2</th>\n",
       "      <td>3</td>\n",
       "      <td>Exciting News! Global Entrepreneurship Week S...</td>\n",
       "      <td>CameronR.Law</td>\n",
       "      <td>11/1/2023</td>\n",
       "      <td>7</td>\n",
       "      <td>0</td>\n",
       "      <td>4</td>\n",
       "      <td>109</td>\n",
       "      <td>NaN</td>\n",
       "      <td>NaN</td>\n",
       "    </tr>\n",
       "  </tbody>\n",
       "</table>\n",
       "</div>"
      ],
      "text/plain": [
       "   Index                                            Posting    PosterName  \\\n",
       "0      1   ðŸŒŸ Celebrating Entrepreneurship & Economic ...  CameronR.Law   \n",
       "1      2   Join us for an early Global Entrepreneurship ...  CameronR.Law   \n",
       "2      3   Exciting News! Global Entrepreneurship Week S...  CameronR.Law   \n",
       "\n",
       "  PostingDate  NumberofLikes  NumberofComments  NumberofReposts  \\\n",
       "0   11/2/2023             12                 3                1   \n",
       "1   11/2/2023             11                 3                2   \n",
       "2   11/1/2023              7                 0                4   \n",
       "\n",
       "   NumberofOrganicImpressions  \\\n",
       "0                          98   \n",
       "1                         342   \n",
       "2                         109   \n",
       "\n",
       "                                            Comments  \\\n",
       "0  What a great news for the Greater Sacramento S...   \n",
       "1  An amazing opportunity! I look forward to seei...   \n",
       "2                                                NaN   \n",
       "\n",
       "                                          Commenters  \n",
       "0  Dick Gourley, Cameron Law, Carlsen Center for ...  \n",
       "1               Cameron Law, Kwame Anku, Mark Takata  \n",
       "2                                                NaN  "
      ]
     },
     "execution_count": 2,
     "metadata": {},
     "output_type": "execute_result"
    }
   ],
   "source": [
    "cam_df = pd.read_csv(\"data\\\\CameronData.csv\")\n",
    "cam_df.head(3)"
   ]
  },
  {
   "cell_type": "markdown",
   "metadata": {},
   "source": [
    "### Question 2: Who are the most influential connections in my network? Identify individuals with a large following or high engagement rates who may be valuable for networking or collaboration"
   ]
  },
  {
   "cell_type": "markdown",
   "metadata": {},
   "source": [
    "##### we will look at the number of organic Impressions column to see what posts reach the lartgest new audience and therefore have the most influence and the column commenters to see who might be attributed with the impressions"
   ]
  },
  {
   "cell_type": "code",
   "execution_count": 3,
   "metadata": {},
   "outputs": [],
   "source": [
    "Inspect = ['Commenters', 'NumberofOrganicImpressions']"
   ]
  },
  {
   "cell_type": "markdown",
   "metadata": {},
   "source": [
    "##### we will look at the top 5 Number of Organic Impressions values to see if any of the top posts share any commenters."
   ]
  },
  {
   "cell_type": "code",
   "execution_count": 8,
   "metadata": {},
   "outputs": [
    {
     "data": {
      "text/html": [
       "<div>\n",
       "<style scoped>\n",
       "    .dataframe tbody tr th:only-of-type {\n",
       "        vertical-align: middle;\n",
       "    }\n",
       "\n",
       "    .dataframe tbody tr th {\n",
       "        vertical-align: top;\n",
       "    }\n",
       "\n",
       "    .dataframe thead th {\n",
       "        text-align: right;\n",
       "    }\n",
       "</style>\n",
       "<table border=\"1\" class=\"dataframe\">\n",
       "  <thead>\n",
       "    <tr style=\"text-align: right;\">\n",
       "      <th></th>\n",
       "      <th>Commenters</th>\n",
       "      <th>NumberofOrganicImpressions</th>\n",
       "    </tr>\n",
       "  </thead>\n",
       "  <tbody>\n",
       "    <tr>\n",
       "      <th>83</th>\n",
       "      <td>StartupSac, Startup Challenge, Startup Challenge</td>\n",
       "      <td>1229</td>\n",
       "    </tr>\n",
       "    <tr>\n",
       "      <th>44</th>\n",
       "      <td>Joel Higginbotham, StartupSac</td>\n",
       "      <td>1158</td>\n",
       "    </tr>\n",
       "    <tr>\n",
       "      <th>32</th>\n",
       "      <td>Kincy Clark, Cameron Law, Dick Gourley, Camero...</td>\n",
       "      <td>653</td>\n",
       "    </tr>\n",
       "    <tr>\n",
       "      <th>45</th>\n",
       "      <td>Neal Best, Samuel Taylor</td>\n",
       "      <td>535</td>\n",
       "    </tr>\n",
       "    <tr>\n",
       "      <th>43</th>\n",
       "      <td>Cameron Law, Dick Gourley</td>\n",
       "      <td>446</td>\n",
       "    </tr>\n",
       "  </tbody>\n",
       "</table>\n",
       "</div>"
      ],
      "text/plain": [
       "                                           Commenters  \\\n",
       "83   StartupSac, Startup Challenge, Startup Challenge   \n",
       "44                      Joel Higginbotham, StartupSac   \n",
       "32  Kincy Clark, Cameron Law, Dick Gourley, Camero...   \n",
       "45                           Neal Best, Samuel Taylor   \n",
       "43                          Cameron Law, Dick Gourley   \n",
       "\n",
       "    NumberofOrganicImpressions  \n",
       "83                        1229  \n",
       "44                        1158  \n",
       "32                         653  \n",
       "45                         535  \n",
       "43                         446  "
      ]
     },
     "execution_count": 8,
     "metadata": {},
     "output_type": "execute_result"
    }
   ],
   "source": [
    "cam_df[Inspect].sort_values(by= 'NumberofOrganicImpressions', ascending = False).head(5)"
   ]
  },
  {
   "cell_type": "code",
   "execution_count": 7,
   "metadata": {},
   "outputs": [
    {
     "data": {
      "text/html": [
       "<div>\n",
       "<style scoped>\n",
       "    .dataframe tbody tr th:only-of-type {\n",
       "        vertical-align: middle;\n",
       "    }\n",
       "\n",
       "    .dataframe tbody tr th {\n",
       "        vertical-align: top;\n",
       "    }\n",
       "\n",
       "    .dataframe thead th {\n",
       "        text-align: right;\n",
       "    }\n",
       "</style>\n",
       "<table border=\"1\" class=\"dataframe\">\n",
       "  <thead>\n",
       "    <tr style=\"text-align: right;\">\n",
       "      <th></th>\n",
       "      <th>Commenters</th>\n",
       "      <th>NumberofOrganicImpressions</th>\n",
       "    </tr>\n",
       "  </thead>\n",
       "  <tbody>\n",
       "    <tr>\n",
       "      <th>83</th>\n",
       "      <td>StartupSac, Startup Challenge, Startup Challenge</td>\n",
       "      <td>1229</td>\n",
       "    </tr>\n",
       "    <tr>\n",
       "      <th>32</th>\n",
       "      <td>Kincy Clark, Cameron Law, Dick Gourley, Camero...</td>\n",
       "      <td>653</td>\n",
       "    </tr>\n",
       "    <tr>\n",
       "      <th>45</th>\n",
       "      <td>Neal Best, Samuel Taylor</td>\n",
       "      <td>535</td>\n",
       "    </tr>\n",
       "    <tr>\n",
       "      <th>43</th>\n",
       "      <td>Cameron Law, Dick Gourley</td>\n",
       "      <td>446</td>\n",
       "    </tr>\n",
       "    <tr>\n",
       "      <th>64</th>\n",
       "      <td>Cameron Law</td>\n",
       "      <td>436</td>\n",
       "    </tr>\n",
       "  </tbody>\n",
       "</table>\n",
       "</div>"
      ],
      "text/plain": [
       "                                           Commenters  \\\n",
       "83   StartupSac, Startup Challenge, Startup Challenge   \n",
       "32  Kincy Clark, Cameron Law, Dick Gourley, Camero...   \n",
       "45                           Neal Best, Samuel Taylor   \n",
       "43                          Cameron Law, Dick Gourley   \n",
       "64                                        Cameron Law   \n",
       "\n",
       "    NumberofOrganicImpressions  \n",
       "83                        1229  \n",
       "32                         653  \n",
       "45                         535  \n",
       "43                         446  \n",
       "64                         436  "
      ]
     },
     "execution_count": 7,
     "metadata": {},
     "output_type": "execute_result"
    }
   ],
   "source": [
    "#This is more internal note for karrisa:  for in case he wants only cameron posts here: \n",
    "cam_only_df = cam_df[cam_df['PosterName']== 'CameronR.Law']\n",
    "cam_only_df[Inspect].sort_values(by= 'NumberofOrganicImpressions', ascending = False).head(5)"
   ]
  },
  {
   "cell_type": "markdown",
   "metadata": {},
   "source": [
    "#### based on these results we can see that the most organic impressions are gained when one of the commenters is StartupSac. The posts they comment on have more orgainic impressions than the nesxt two highest posts on the list combined. Further research into them shows they have a large following of 2000 accounts and If we wanted to promote our brand or posts we should definiatly collaborate with them and integrate them more into our network. "
   ]
  },
  {
   "cell_type": "markdown",
   "metadata": {},
   "source": [
    "### Question 3: How has my network expanded through influential connections? Analyze the growth of your network after connecting with influential individuals."
   ]
  },
  {
   "cell_type": "markdown",
   "metadata": {},
   "source": [
    "##### so now to establish who are influential connections we should still include Oganic impressions but also include other forms of engagemtnt like likes, reposts, and comments"
   ]
  },
  {
   "cell_type": "code",
   "execution_count": 10,
   "metadata": {},
   "outputs": [],
   "source": [
    "Inspect = ['Commenters', 'NumberofOrganicImpressions', 'NumberofLikes', 'NumberofComments', 'NumberofReposts']"
   ]
  },
  {
   "cell_type": "markdown",
   "metadata": {},
   "source": [
    "###### Replace with cam_only_df for just camerons posts "
   ]
  },
  {
   "cell_type": "code",
   "execution_count": 38,
   "metadata": {},
   "outputs": [
    {
     "data": {
      "text/html": [
       "<div>\n",
       "<style scoped>\n",
       "    .dataframe tbody tr th:only-of-type {\n",
       "        vertical-align: middle;\n",
       "    }\n",
       "\n",
       "    .dataframe tbody tr th {\n",
       "        vertical-align: top;\n",
       "    }\n",
       "\n",
       "    .dataframe thead th {\n",
       "        text-align: right;\n",
       "    }\n",
       "</style>\n",
       "<table border=\"1\" class=\"dataframe\">\n",
       "  <thead>\n",
       "    <tr style=\"text-align: right;\">\n",
       "      <th></th>\n",
       "      <th>Commenters</th>\n",
       "      <th>NumberofOrganicImpressions</th>\n",
       "      <th>NumberofLikes</th>\n",
       "      <th>NumberofComments</th>\n",
       "      <th>NumberofReposts</th>\n",
       "    </tr>\n",
       "  </thead>\n",
       "  <tbody>\n",
       "    <tr>\n",
       "      <th>5</th>\n",
       "      <td>Cameron Law,Ethan Bradley, Ethan  Bradley, Ste...</td>\n",
       "      <td>0</td>\n",
       "      <td>108</td>\n",
       "      <td>33</td>\n",
       "      <td>2</td>\n",
       "    </tr>\n",
       "    <tr>\n",
       "      <th>44</th>\n",
       "      <td>Joel Higginbotham, StartupSac</td>\n",
       "      <td>1158</td>\n",
       "      <td>52</td>\n",
       "      <td>2</td>\n",
       "      <td>4</td>\n",
       "    </tr>\n",
       "    <tr>\n",
       "      <th>58</th>\n",
       "      <td>Ronald Flores, Franklin Burris, Arelene Miranda</td>\n",
       "      <td>0</td>\n",
       "      <td>40</td>\n",
       "      <td>5</td>\n",
       "      <td>8</td>\n",
       "    </tr>\n",
       "    <tr>\n",
       "      <th>45</th>\n",
       "      <td>Neal Best, Samuel Taylor</td>\n",
       "      <td>535</td>\n",
       "      <td>39</td>\n",
       "      <td>2</td>\n",
       "      <td>1</td>\n",
       "    </tr>\n",
       "    <tr>\n",
       "      <th>18</th>\n",
       "      <td>NaN</td>\n",
       "      <td>0</td>\n",
       "      <td>33</td>\n",
       "      <td>0</td>\n",
       "      <td>10</td>\n",
       "    </tr>\n",
       "  </tbody>\n",
       "</table>\n",
       "</div>"
      ],
      "text/plain": [
       "                                           Commenters  \\\n",
       "5   Cameron Law,Ethan Bradley, Ethan  Bradley, Ste...   \n",
       "44                      Joel Higginbotham, StartupSac   \n",
       "58    Ronald Flores, Franklin Burris, Arelene Miranda   \n",
       "45                           Neal Best, Samuel Taylor   \n",
       "18                                                NaN   \n",
       "\n",
       "    NumberofOrganicImpressions  NumberofLikes  NumberofComments  \\\n",
       "5                            0            108                33   \n",
       "44                        1158             52                 2   \n",
       "58                           0             40                 5   \n",
       "45                         535             39                 2   \n",
       "18                           0             33                 0   \n",
       "\n",
       "    NumberofReposts  \n",
       "5                 2  \n",
       "44                4  \n",
       "58                8  \n",
       "45                1  \n",
       "18               10  "
      ]
     },
     "execution_count": 38,
     "metadata": {},
     "output_type": "execute_result"
    }
   ],
   "source": [
    "cam_df[Inspect].sort_values(by= 'NumberofLikes', ascending = False).head(5)\n"
   ]
  },
  {
   "cell_type": "markdown",
   "metadata": {},
   "source": [
    "##### Here we are taking the most liked post that doesnt appear to be sponsored (NumberofOrganicImpressions >0) and looking at the unique commentors on it"
   ]
  },
  {
   "cell_type": "code",
   "execution_count": 43,
   "metadata": {},
   "outputs": [
    {
     "name": "stdout",
     "output_type": "stream",
     "text": [
      "{' Daveed Sidhu', ' Leah Burdick', ' Pam Marrone', ' Giuseppe Sanfillippo', 'Cameron Law', 'Ethan Bradley', ' Pam Kaur', ' Sal Ramirez', ' UC Davis Institute for Innovation and Entrepreneurship', ' Ethan  Bradley', ' Joe Ruport', ' Vilien Gomez', ' Heidi Sanborn', ' Michael Jasso', ' Stephanie McGann-Jantzen', ' FourthWave', ' Cameron Law', ' Mark Beckford'}\n",
      "{' StartupSac', 'Joel Higginbotham'}\n",
      "{' Arelene Miranda', 'Ronald Flores', ' Franklin Burris'}\n"
     ]
    }
   ],
   "source": [
    "commentors =  cam_df['Commenters'].iloc[5].split(',')\n",
    "print(set(commentors))\n",
    "commentors =  cam_df['Commenters'].iloc[44].split(',')\n",
    "print(set(commentors))\n",
    "commentors = cam_df['Commenters'].iloc[58].split(',')\n",
    "print(set(commentors))"
   ]
  },
  {
   "cell_type": "code",
   "execution_count": 12,
   "metadata": {},
   "outputs": [
    {
     "data": {
      "text/html": [
       "<div>\n",
       "<style scoped>\n",
       "    .dataframe tbody tr th:only-of-type {\n",
       "        vertical-align: middle;\n",
       "    }\n",
       "\n",
       "    .dataframe tbody tr th {\n",
       "        vertical-align: top;\n",
       "    }\n",
       "\n",
       "    .dataframe thead th {\n",
       "        text-align: right;\n",
       "    }\n",
       "</style>\n",
       "<table border=\"1\" class=\"dataframe\">\n",
       "  <thead>\n",
       "    <tr style=\"text-align: right;\">\n",
       "      <th></th>\n",
       "      <th>Commenters</th>\n",
       "      <th>NumberofOrganicImpressions</th>\n",
       "      <th>NumberofLikes</th>\n",
       "      <th>NumberofComments</th>\n",
       "      <th>NumberofReposts</th>\n",
       "    </tr>\n",
       "  </thead>\n",
       "  <tbody>\n",
       "    <tr>\n",
       "      <th>5</th>\n",
       "      <td>Cameron Law,Ethan Bradley, Ethan  Bradley, Ste...</td>\n",
       "      <td>0</td>\n",
       "      <td>108</td>\n",
       "      <td>33</td>\n",
       "      <td>2</td>\n",
       "    </tr>\n",
       "    <tr>\n",
       "      <th>72</th>\n",
       "      <td>Maria Butler,Maria Butler,Maria Butler,Maria B...</td>\n",
       "      <td>54</td>\n",
       "      <td>14</td>\n",
       "      <td>9</td>\n",
       "      <td>1</td>\n",
       "    </tr>\n",
       "    <tr>\n",
       "      <th>73</th>\n",
       "      <td>Azriel (A.Z) Nicdao, Joshua Maddox, Joshua Mad...</td>\n",
       "      <td>80</td>\n",
       "      <td>20</td>\n",
       "      <td>7</td>\n",
       "      <td>7</td>\n",
       "    </tr>\n",
       "    <tr>\n",
       "      <th>67</th>\n",
       "      <td>NaN</td>\n",
       "      <td>383</td>\n",
       "      <td>20</td>\n",
       "      <td>7</td>\n",
       "      <td>7</td>\n",
       "    </tr>\n",
       "    <tr>\n",
       "      <th>32</th>\n",
       "      <td>Kincy Clark, Cameron Law, Dick Gourley, Camero...</td>\n",
       "      <td>653</td>\n",
       "      <td>12</td>\n",
       "      <td>6</td>\n",
       "      <td>3</td>\n",
       "    </tr>\n",
       "  </tbody>\n",
       "</table>\n",
       "</div>"
      ],
      "text/plain": [
       "                                           Commenters  \\\n",
       "5   Cameron Law,Ethan Bradley, Ethan  Bradley, Ste...   \n",
       "72  Maria Butler,Maria Butler,Maria Butler,Maria B...   \n",
       "73  Azriel (A.Z) Nicdao, Joshua Maddox, Joshua Mad...   \n",
       "67                                                NaN   \n",
       "32  Kincy Clark, Cameron Law, Dick Gourley, Camero...   \n",
       "\n",
       "    NumberofOrganicImpressions  NumberofLikes  NumberofComments  \\\n",
       "5                            0            108                33   \n",
       "72                          54             14                 9   \n",
       "73                          80             20                 7   \n",
       "67                         383             20                 7   \n",
       "32                         653             12                 6   \n",
       "\n",
       "    NumberofReposts  \n",
       "5                 2  \n",
       "72                1  \n",
       "73                7  \n",
       "67                7  \n",
       "32                3  "
      ]
     },
     "execution_count": 12,
     "metadata": {},
     "output_type": "execute_result"
    }
   ],
   "source": [
    "cam_df[Inspect].sort_values(by= 'NumberofComments', ascending = False).head(5)"
   ]
  },
  {
   "cell_type": "markdown",
   "metadata": {},
   "source": [
    "##### Here we are taking the most commented post and looking at the unique commentors on it"
   ]
  },
  {
   "cell_type": "code",
   "execution_count": 44,
   "metadata": {},
   "outputs": [
    {
     "name": "stdout",
     "output_type": "stream",
     "text": [
      "{' Daveed Sidhu', ' Leah Burdick', ' Pam Marrone', ' Giuseppe Sanfillippo', 'Cameron Law', 'Ethan Bradley', ' Pam Kaur', ' Sal Ramirez', ' UC Davis Institute for Innovation and Entrepreneurship', ' Ethan  Bradley', ' Joe Ruport', ' Vilien Gomez', ' Heidi Sanborn', ' Michael Jasso', ' Stephanie McGann-Jantzen', ' FourthWave', ' Cameron Law', ' Mark Beckford'}\n",
      "{' José Matthijsse', 'Maria Butler'}\n",
      "{\" Vicki J. O'Grady-Longo\", 'Azriel (A.Z) Nicdao', ' June Swatzell', ' Joshua Maddox', ' 1 Million Cups Sacramento'}\n"
     ]
    }
   ],
   "source": [
    "commentors = cam_df['Commenters'].iloc[5].split(',')\n",
    "print(set(commentors))\n",
    "commentors = cam_df['Commenters'].iloc[72].split(',')\n",
    "print(set(commentors))\n",
    "commentors = cam_df['Commenters'].iloc[73].split(',')\n",
    "print(set(commentors))"
   ]
  },
  {
   "cell_type": "markdown",
   "metadata": {},
   "source": [
    "##### Here we are taking the most reposted post and looking at the unique commentors on it"
   ]
  },
  {
   "cell_type": "code",
   "execution_count": 45,
   "metadata": {},
   "outputs": [
    {
     "data": {
      "text/html": [
       "<div>\n",
       "<style scoped>\n",
       "    .dataframe tbody tr th:only-of-type {\n",
       "        vertical-align: middle;\n",
       "    }\n",
       "\n",
       "    .dataframe tbody tr th {\n",
       "        vertical-align: top;\n",
       "    }\n",
       "\n",
       "    .dataframe thead th {\n",
       "        text-align: right;\n",
       "    }\n",
       "</style>\n",
       "<table border=\"1\" class=\"dataframe\">\n",
       "  <thead>\n",
       "    <tr style=\"text-align: right;\">\n",
       "      <th></th>\n",
       "      <th>Commenters</th>\n",
       "      <th>NumberofOrganicImpressions</th>\n",
       "      <th>NumberofLikes</th>\n",
       "      <th>NumberofComments</th>\n",
       "      <th>NumberofReposts</th>\n",
       "    </tr>\n",
       "  </thead>\n",
       "  <tbody>\n",
       "    <tr>\n",
       "      <th>18</th>\n",
       "      <td>NaN</td>\n",
       "      <td>0</td>\n",
       "      <td>33</td>\n",
       "      <td>0</td>\n",
       "      <td>10</td>\n",
       "    </tr>\n",
       "    <tr>\n",
       "      <th>31</th>\n",
       "      <td>Nina Essandoh</td>\n",
       "      <td>0</td>\n",
       "      <td>1</td>\n",
       "      <td>1</td>\n",
       "      <td>10</td>\n",
       "    </tr>\n",
       "    <tr>\n",
       "      <th>50</th>\n",
       "      <td>Laura Good, June Swatzell, Pam Kaur</td>\n",
       "      <td>0</td>\n",
       "      <td>16</td>\n",
       "      <td>3</td>\n",
       "      <td>9</td>\n",
       "    </tr>\n",
       "    <tr>\n",
       "      <th>64</th>\n",
       "      <td>Cameron Law</td>\n",
       "      <td>436</td>\n",
       "      <td>14</td>\n",
       "      <td>1</td>\n",
       "      <td>8</td>\n",
       "    </tr>\n",
       "    <tr>\n",
       "      <th>58</th>\n",
       "      <td>Ronald Flores, Franklin Burris, Arelene Miranda</td>\n",
       "      <td>0</td>\n",
       "      <td>40</td>\n",
       "      <td>5</td>\n",
       "      <td>8</td>\n",
       "    </tr>\n",
       "  </tbody>\n",
       "</table>\n",
       "</div>"
      ],
      "text/plain": [
       "                                         Commenters  \\\n",
       "18                                              NaN   \n",
       "31                                    Nina Essandoh   \n",
       "50              Laura Good, June Swatzell, Pam Kaur   \n",
       "64                                      Cameron Law   \n",
       "58  Ronald Flores, Franklin Burris, Arelene Miranda   \n",
       "\n",
       "    NumberofOrganicImpressions  NumberofLikes  NumberofComments  \\\n",
       "18                           0             33                 0   \n",
       "31                           0              1                 1   \n",
       "50                           0             16                 3   \n",
       "64                         436             14                 1   \n",
       "58                           0             40                 5   \n",
       "\n",
       "    NumberofReposts  \n",
       "18               10  \n",
       "31               10  \n",
       "50                9  \n",
       "64                8  \n",
       "58                8  "
      ]
     },
     "execution_count": 45,
     "metadata": {},
     "output_type": "execute_result"
    }
   ],
   "source": [
    "cam_df[Inspect].sort_values(by= 'NumberofReposts', ascending = False).head(5)"
   ]
  },
  {
   "cell_type": "code",
   "execution_count": 47,
   "metadata": {},
   "outputs": [
    {
     "name": "stdout",
     "output_type": "stream",
     "text": [
      "{'Nina Essandoh'}\n",
      "{'Laura Good', ' June Swatzell', ' Pam Kaur'}\n",
      "{'Cameron Law'}\n"
     ]
    }
   ],
   "source": [
    "commentors =  cam_df['Commenters'].iloc[31].split(',')\n",
    "print(set(commentors))\n",
    "commentors = cam_df['Commenters'].iloc[50].split(',')\n",
    "print(set(commentors))\n",
    "commentors =  cam_df['Commenters'].iloc[64].split(',')\n",
    "print(set(commentors))"
   ]
  },
  {
   "cell_type": "markdown",
   "metadata": {},
   "source": [
    "##### Looking at teh data above we can see that the number of likes and comments seem to go down as the index of teh record increases. Given that the Dasta set is ordered from latest first, we can see that connections with influential people means we see lower number of organic impressions as we can onlyh reach as far as their networks do, but we are receiving more account engagemnt from the ones we have already reached. "
   ]
  }
 ],
 "metadata": {
  "kernelspec": {
   "display_name": "Python 3",
   "language": "python",
   "name": "python3"
  },
  "language_info": {
   "codemirror_mode": {
    "name": "ipython",
    "version": 3
   },
   "file_extension": ".py",
   "mimetype": "text/x-python",
   "name": "python",
   "nbconvert_exporter": "python",
   "pygments_lexer": "ipython3",
   "version": "3.11.5"
  }
 },
 "nbformat": 4,
 "nbformat_minor": 2
}
